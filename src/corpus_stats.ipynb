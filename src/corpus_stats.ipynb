{
 "cells": [
  {
   "attachments": {},
   "cell_type": "markdown",
   "metadata": {},
   "source": [
    "# Analyze Corpus\n",
    "\n",
    "(C) 2023-2024 by [Damir Cavar](http://damir.cavar.me/)\n",
    "\n",
    "This notebook provides an overview of the data in the corpus by language and type.\n",
    "\n",
    "This code is part of the [NLP-Lab](http://nlp-lab.org/) [Ellipsis Project](https://nlp-lab.org/ellipsis/).\n",
    "\n",
    "The prerequisites for this code to run are:\n",
    "\n",
    "- install the requirements using `pip install -r requirements.txt`"
   ]
  },
  {
   "cell_type": "code",
   "execution_count": null,
   "metadata": {},
   "outputs": [],
   "source": [
    "!pip install -r requirements.txt"
   ]
  },
  {
   "cell_type": "code",
   "execution_count": 21,
   "metadata": {},
   "outputs": [],
   "source": [
    "import os\n",
    "import regex as re\n",
    "import pandas as pd\n",
    "from ipydatagrid import DataGrid\n",
    "import glob"
   ]
  },
  {
   "cell_type": "code",
   "execution_count": 22,
   "metadata": {},
   "outputs": [],
   "source": [
    "re_entry = re.compile(r\"\\n+(?P<ellipsis>.+)\\n^----\\n(?P<fullform>^.+)\\n(^#.+\\n)*\", re.MULTILINE|re.UNICODE)"
   ]
  },
  {
   "cell_type": "code",
   "execution_count": 24,
   "metadata": {},
   "outputs": [],
   "source": [
    "def parse_txt_format(filename, debug=False):\n",
    "    counter = 0\n",
    "    with open(filename, mode='r', encoding='utf-8') as ifp:\n",
    "        text = ifp.read()\n",
    "    if debug:\n",
    "        print(text)\n",
    "    for match in re_entry.finditer(text):\n",
    "        counter += 1\n",
    "    return counter"
   ]
  },
  {
   "cell_type": "code",
   "execution_count": 25,
   "metadata": {},
   "outputs": [
    {
     "name": "stdout",
     "output_type": "stream",
     "text": [
      "../data/stripping.txt\n",
      "../data/NP_ellipsis.txt\n",
      "../data/VP_ellipsis.txt\n",
      "../data/VP_ellipsis_2.txt\n",
      "../data/gapping_2.txt\n",
      "../data/gapping.txt\n",
      "../data/sluicing.txt\n",
      "../data/verb_stranding.txt\n",
      "../data/sluicing_2.txt\n",
      "../data/polarity_ellipsis.txt\n",
      "../data/NP_ellipsis_2.txt\n"
     ]
    }
   ],
   "source": [
    "directory = os.path.join(\"..\", \"data\", \"*.txt\")\n",
    "res = []\n",
    "lang = \"Russian\"\n",
    "for file in glob.glob(directory):\n",
    "    print(file)\n",
    "    DEBUG=False\n",
    "    count = parse_txt_format(file, debug=DEBUG)\n",
    "    if count > 0:\n",
    "        res.append( (os.path.splitext(os.path.basename(file))[0], count) )\n",
    "res.sort(key=lambda x: x[1], reverse=True)\n",
    "total = sum([ x[1] for x in res ])\n",
    "res.append( (\"total\", total ) )\n",
    "df = pd.DataFrame(res, columns=(\"type\", \"count\"), index=None)"
   ]
  },
  {
   "cell_type": "code",
   "execution_count": 26,
   "metadata": {},
   "outputs": [
    {
     "data": {
      "application/vnd.jupyter.widget-view+json": {
       "model_id": "89df01e262bf4d229b5096c4c44510f0",
       "version_major": 2,
       "version_minor": 0
      },
      "text/plain": [
       "DataGrid(auto_fit_columns=True, auto_fit_params={'area': 'body', 'padding': 80, 'numCols': 2}, corner_renderer…"
      ]
     },
     "execution_count": 26,
     "metadata": {},
     "output_type": "execute_result"
    }
   ],
   "source": [
    "grid = DataGrid(df)\n",
    "grid.auto_fit_params = {\"area\": \"body\", \"padding\": 80, \"numCols\": 2}\n",
    "grid.auto_fit_columns = True\n",
    "grid"
   ]
  }
 ],
 "metadata": {
  "kernelspec": {
   "display_name": "Python 3 (ipykernel)",
   "language": "python",
   "name": "python3"
  },
  "language_info": {
   "codemirror_mode": {
    "name": "ipython",
    "version": 3
   },
   "file_extension": ".py",
   "mimetype": "text/x-python",
   "name": "python",
   "nbconvert_exporter": "python",
   "pygments_lexer": "ipython3",
   "version": "3.12.3"
  }
 },
 "nbformat": 4,
 "nbformat_minor": 4
}
